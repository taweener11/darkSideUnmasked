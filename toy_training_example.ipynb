{
  "nbformat": 4,
  "nbformat_minor": 0,
  "metadata": {
    "colab": {
      "provenance": [],
      "include_colab_link": true
    },
    "kernelspec": {
      "name": "python3",
      "display_name": "Python 3"
    },
    "language_info": {
      "name": "python"
    }
  },
  "cells": [
    {
      "cell_type": "markdown",
      "metadata": {
        "id": "view-in-github",
        "colab_type": "text"
      },
      "source": [
        "<a href=\"https://colab.research.google.com/github/taweener11/darkSideUnmasked/blob/main/toy_training_example.ipynb\" target=\"_parent\"><img src=\"https://colab.research.google.com/assets/colab-badge.svg\" alt=\"Open In Colab\"/></a>"
      ]
    },
    {
      "cell_type": "code",
      "source": [
        "from google.colab import drive\n",
        "drive.mount('/content/drive')"
      ],
      "metadata": {
        "colab": {
          "base_uri": "https://localhost:8080/"
        },
        "id": "ar5OzQYbW3cA",
        "outputId": "873bc669-7e0f-446d-e811-f6be17c4bc37"
      },
      "execution_count": null,
      "outputs": [
        {
          "output_type": "stream",
          "name": "stdout",
          "text": [
            "Drive already mounted at /content/drive; to attempt to forcibly remount, call drive.mount(\"/content/drive\", force_remount=True).\n"
          ]
        }
      ]
    },
    {
      "cell_type": "code",
      "source": [
        "data_dir = '/content/drive/MyDrive/LFW'  # or just '/content/data' for temporary Colab storage\n"
      ],
      "metadata": {
        "id": "dwYSp6_ZXEFA"
      },
      "execution_count": null,
      "outputs": []
    },
    {
      "cell_type": "code",
      "execution_count": null,
      "metadata": {
        "id": "LLhjFCkFVncO"
      },
      "outputs": [],
      "source": [
        "import torch\n",
        "import torch.nn as nn\n",
        "import torch.nn.functional as F\n",
        "\n",
        "class ArcMarginProduct(nn.Module):\n",
        "    def __init__(self, in_features, out_features, s=30.0, m=0.5, easy_margin=False):\n",
        "        super().__init__()\n",
        "        self.in_features = in_features\n",
        "        self.out_features = out_features\n",
        "        self.s = s\n",
        "        self.m = m\n",
        "        self.weight = nn.Parameter(torch.FloatTensor(out_features, in_features))\n",
        "        nn.init.xavier_uniform_(self.weight)\n",
        "        self.easy_margin = easy_margin\n",
        "        self.cos_m = torch.cos(torch.tensor(self.m))\n",
        "        self.sin_m = torch.sin(torch.tensor(self.m))\n",
        "        self.th = torch.cos(torch.tensor(3.14159265 - self.m))\n",
        "        self.mm = torch.sin(torch.tensor(3.14159265 - self.m)) * self.m\n",
        "\n",
        "    def forward(self, input, label):\n",
        "        cosine = F.linear(F.normalize(input), F.normalize(self.weight))\n",
        "        sine = torch.sqrt(1.0 - torch.clamp(cosine ** 2, 0, 1))\n",
        "        phi = cosine * self.cos_m - sine * self.sin_m\n",
        "        one_hot = torch.zeros_like(cosine)\n",
        "        one_hot.scatter_(1, label.view(-1, 1), 1)\n",
        "        if self.easy_margin:\n",
        "            phi = torch.where(cosine > 0, phi, cosine)\n",
        "        else:\n",
        "            phi = torch.where(cosine > self.th, phi, cosine - self.mm)\n",
        "        output = (one_hot * phi) + ((1.0 - one_hot) * cosine)\n",
        "        output *= self.s\n",
        "        return output"
      ]
    },
    {
      "cell_type": "code",
      "source": [
        "!apt-get install iputils-ping"
      ],
      "metadata": {
        "colab": {
          "base_uri": "https://localhost:8080/"
        },
        "id": "7wvejDN_X8EY",
        "outputId": "644de33d-462a-43e2-df6f-647c14195061"
      },
      "execution_count": null,
      "outputs": [
        {
          "output_type": "stream",
          "name": "stdout",
          "text": [
            "Reading package lists... Done\n",
            "Building dependency tree... Done\n",
            "Reading state information... Done\n",
            "The following NEW packages will be installed:\n",
            "  iputils-ping\n",
            "0 upgraded, 1 newly installed, 0 to remove and 34 not upgraded.\n",
            "Need to get 42.9 kB of archives.\n",
            "After this operation, 116 kB of additional disk space will be used.\n",
            "Get:1 http://archive.ubuntu.com/ubuntu jammy/main amd64 iputils-ping amd64 3:20211215-1 [42.9 kB]\n",
            "Fetched 42.9 kB in 0s (220 kB/s)\n",
            "Selecting previously unselected package iputils-ping.\n",
            "(Reading database ... 126102 files and directories currently installed.)\n",
            "Preparing to unpack .../iputils-ping_3%3a20211215-1_amd64.deb ...\n",
            "Unpacking iputils-ping (3:20211215-1) ...\n",
            "Setting up iputils-ping (3:20211215-1) ...\n",
            "Processing triggers for man-db (2.10.2-1) ...\n"
          ]
        }
      ]
    },
    {
      "cell_type": "code",
      "source": [
        "!ping www.google.com # Check network connectivity. Should see replies if connected\n"
      ],
      "metadata": {
        "colab": {
          "base_uri": "https://localhost:8080/"
        },
        "id": "xYPknThWWhit",
        "outputId": "09174c51-0834-4c0f-ac89-3a72e972102c"
      },
      "execution_count": null,
      "outputs": [
        {
          "output_type": "stream",
          "name": "stdout",
          "text": [
            "PING www.google.com (173.194.212.147) 56(84) bytes of data.\n",
            "64 bytes from vq-in-f147.1e100.net (173.194.212.147): icmp_seq=1 ttl=114 time=3.66 ms\n",
            "64 bytes from vq-in-f147.1e100.net (173.194.212.147): icmp_seq=2 ttl=114 time=0.548 ms\n",
            "64 bytes from vq-in-f147.1e100.net (173.194.212.147): icmp_seq=3 ttl=114 time=0.677 ms\n",
            "64 bytes from vq-in-f147.1e100.net (173.194.212.147): icmp_seq=4 ttl=114 time=0.469 ms\n",
            "64 bytes from vq-in-f147.1e100.net (173.194.212.147): icmp_seq=5 ttl=114 time=0.457 ms\n",
            "\n",
            "--- www.google.com ping statistics ---\n",
            "5 packets transmitted, 5 received, 0% packet loss, time 4005ms\n",
            "rtt min/avg/max/mdev = 0.457/1.161/3.657/1.250 ms\n"
          ]
        }
      ]
    },
    {
      "cell_type": "code",
      "source": [
        "from torchvision.datasets import LFWPeople, Flowers102\n",
        "import torchvision.transforms as T\n",
        "from torch.utils.data import DataLoader, Subset\n",
        "import numpy as np\n",
        "from collections import Counter\n",
        "\n",
        "# Define image transform (resize, tensor)\n",
        "transform = T.Compose([\n",
        "    T.Resize((112, 112)),\n",
        "    T.ToTensor(),\n",
        "])\n",
        "\n",
        "# Download LFW\n",
        "# lfw_all = LFWPeople(root=data_dir, split='train', download=True, transform=transform)\n",
        "\n",
        "\n",
        "\n",
        "# # Get class distribution and select classes with at least 10 images\n",
        "# counts = Counter(lfw_all.targets)\n",
        "# min_images_per_class = 10\n",
        "# top_classes = [cls for cls, cnt in counts.items() if cnt >= min_images_per_class]\n",
        "\n",
        "# # Filter dataset to only those classes\n",
        "# idxs = [i for i, t in enumerate(lfw_all.targets) if t in top_classes]\n",
        "# filtered_targets = [lfw_all.targets[i] for i in idxs]\n",
        "# # Relabel for contiguous integer labels\n",
        "# class_map = {old: new for new, old in enumerate(sorted(set(filtered_targets)))}\n",
        "# filtered_targets = [class_map[t] for t in filtered_targets]\n",
        "\n",
        "# # Build subset\n",
        "# lfw_subset = Subset(lfw_all, idxs)\n",
        "# lfw_subset.targets = filtered_targets # this is a trick to get DataLoader labels right\n",
        "\n",
        "# n_classes = len(set(filtered_targets))\n",
        "# print(f\"Using {n_classes} classes, {len(filtered_targets)} images.\")"
      ],
      "metadata": {
        "id": "N0g1XCkiWxoU"
      },
      "execution_count": null,
      "outputs": []
    },
    {
      "cell_type": "code",
      "source": [
        "from torchvision.datasets import Flowers102\n",
        "\n",
        "flowers = Flowers102(root='./data', split='train', download=True, transform=transform)\n",
        "train_loader = DataLoader(flowers, batch_size=64, shuffle=True)\n",
        "n_classes = 102"
      ],
      "metadata": {
        "colab": {
          "base_uri": "https://localhost:8080/"
        },
        "id": "XVTuoAvHZ8Ci",
        "outputId": "7707549c-f593-4217-830f-a2ca39433790"
      },
      "execution_count": null,
      "outputs": [
        {
          "output_type": "stream",
          "name": "stderr",
          "text": [
            "100%|██████████| 345M/345M [00:10<00:00, 32.9MB/s]\n",
            "100%|██████████| 502/502 [00:00<00:00, 548kB/s]\n",
            "100%|██████████| 15.0k/15.0k [00:00<00:00, 13.9MB/s]\n"
          ]
        }
      ]
    },
    {
      "cell_type": "code",
      "source": [
        "\n",
        "import torchvision.models as models\n",
        "device = torch.device('cuda' if torch.cuda.is_available() else 'cpu')\n",
        "backbone = models.resnet18(weights=None)\n",
        "feature_dim = backbone.fc.in_features\n",
        "backbone.fc = nn.Identity()\n",
        "arc_head = ArcMarginProduct(feature_dim, n_classes).to(device)\n"
      ],
      "metadata": {
        "id": "EIZG9G65aOBk"
      },
      "execution_count": null,
      "outputs": []
    },
    {
      "cell_type": "code",
      "source": [
        "model = nn.Sequential(backbone, nn.Flatten(start_dim=1)).to(device)\n",
        "criterion = nn.CrossEntropyLoss()\n",
        "optimizer = torch.optim.Adam(list(model.parameters()) + list(arc_head.parameters()), lr=1e-3)\n",
        "\n",
        "for epoch in range(2):\n",
        "    model.train()\n",
        "    arc_head.train()\n",
        "    total, correct, running_loss = 0, 0, 0.0\n",
        "    for i, (images, labels) in enumerate(train_loader):\n",
        "        images, labels = images.to(device), labels.to(device)\n",
        "        features = model(images)\n",
        "        logits = arc_head(features, labels)\n",
        "        loss = criterion(logits, labels)\n",
        "        optimizer.zero_grad()\n",
        "        loss.backward()\n",
        "        optimizer.step()\n",
        "        running_loss += loss.item() * images.size(0)\n",
        "        preds = logits.argmax(1)\n",
        "        correct += (preds == labels).sum().item()\n",
        "        total += images.size(0)\n",
        "        if (i+1) % 50 == 0: print(f\"Batch {i+1}/{len(train_loader)} - Loss {loss.item():.4f}\")\n",
        "    print(f\"Epoch {epoch+1}: Loss={running_loss/total:.4f}  Accuracy={correct/total*100:.2f}%\")"
      ],
      "metadata": {
        "colab": {
          "base_uri": "https://localhost:8080/"
        },
        "id": "i0NIiOa-Z-ze",
        "outputId": "c0c8b686-ece6-4093-d159-addc1f2356ca"
      },
      "execution_count": null,
      "outputs": [
        {
          "output_type": "stream",
          "name": "stdout",
          "text": [
            "Epoch 1: Loss=18.9964  Accuracy=0.00%\n",
            "Epoch 2: Loss=17.8274  Accuracy=0.00%\n"
          ]
        }
      ]
    },
    {
      "cell_type": "code",
      "source": [],
      "metadata": {
        "id": "UZf3aM4VaK1s"
      },
      "execution_count": null,
      "outputs": []
    }
  ]
}